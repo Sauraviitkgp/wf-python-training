{
 "cells": [
  {
   "cell_type": "code",
   "execution_count": 52,
   "metadata": {},
   "outputs": [],
   "source": [
    "import pandas as pd\n",
    "import numpy as np\n",
    "%matplotlib inline"
   ]
  },
  {
   "cell_type": "markdown",
   "metadata": {},
   "source": [
    "### Agenda\n",
    "- Corona analysis\n",
    "    - melt, pivot_table, join, merge\n",
    "- Random variable\n",
    "- Correlation analysis\n",
    "    - Correlation matrix\n",
    "    - Heatmap to visualize correlation matrix\n",
    "    - Identify top correlated variables in a data frame\n",
    "- Cosine similarity\n",
    "- Structured data\n",
    "- Unstructured text data -> Structured data - Document Term Matrix\n",
    "- Word similarity\n",
    "- Document similarity\n",
    "- Populate custom functions in a python file and import it in jupyter notebook\n",
    "- Exercises"
   ]
  },
  {
   "cell_type": "code",
   "execution_count": 7,
   "metadata": {},
   "outputs": [],
   "source": [
    "url = 'https://github.com/CSSEGISandData/COVID-19/raw/master/csse_covid_19_data/csse_covid_19_time_series/time_series_covid19_confirmed_global.csv'\n",
    "confirmed = pd.read_csv(url)\n",
    "cols_retain = ['Province/State', 'Country/Region', 'Lat', 'Long']\n",
    "df_confirmed = confirmed.melt(id_vars=cols_retain)\n",
    "df_confirmed = df_confirmed.rename(columns={'variable': 'Date',\n",
    "                                            'value': 'confirmed'})\n",
    "df_confirmed['Date'] = pd.to_datetime(df_confirmed['Date'],\n",
    "                                  format=\"%m/%d/%y\")"
   ]
  },
  {
   "cell_type": "code",
   "execution_count": 21,
   "metadata": {},
   "outputs": [],
   "source": [
    "# Identify top 10 countries with maximum cases as on yesterday\n",
    "australia = df_confirmed[df_confirmed['Country/Region']=='Australia']"
   ]
  },
  {
   "cell_type": "code",
   "execution_count": 47,
   "metadata": {},
   "outputs": [],
   "source": [
    "\n",
    "sample = pd.DataFrame({\n",
    "    'product': ['a', 'b', 'c', 'a', 'b'],\n",
    "    'Date': ['M', 'M',' M', 'T', 'T'],\n",
    "    'sales': [1,2,3,4,5]\n",
    "})\n",
    "summary = sample.groupby(['product', 'Date']).agg({'sales': sum})\n",
    "#summary.reset_index()"
   ]
  },
  {
   "cell_type": "code",
   "execution_count": 57,
   "metadata": {},
   "outputs": [],
   "source": [
    "country_confirmed = df_confirmed.groupby(\n",
    "    ['Country/Region', 'Date']).agg({'confirmed': sum})\n",
    "country_confirmed = country_confirmed.reset_index()\n",
    "#australia = country_confirmed[country_confirmed['Country/Region']=='Australia']\n",
    "#australia['confirmed_abs'] = australia['confirmed'].diff()\n",
    "#australia.plot.line(x='Date', y='confirmed_abs')"
   ]
  },
  {
   "cell_type": "code",
   "execution_count": 66,
   "metadata": {},
   "outputs": [],
   "source": [
    "country_counts = country_confirmed.groupby(['Country/Region']).agg({'confirmed': 'last'})"
   ]
  },
  {
   "cell_type": "code",
   "execution_count": 65,
   "metadata": {},
   "outputs": [],
   "source": [
    "latest_date = country_confirmed['Date'].max()\n",
    "country_counts = country_confirmed[country_confirmed['Date'] == latest_date]"
   ]
  },
  {
   "cell_type": "code",
   "execution_count": 70,
   "metadata": {},
   "outputs": [
    {
     "data": {
      "text/plain": [
       "<matplotlib.axes._subplots.AxesSubplot at 0x1167c8a90>"
      ]
     },
     "execution_count": 70,
     "metadata": {},
     "output_type": "execute_result"
    },
    {
     "data": {
      "image/png": "[encoded data removed]",
      "text/plain": [
       "<Figure size 432x288 with 1 Axes>"
      ]
     },
     "metadata": {
      "needs_background": "light"
     },
     "output_type": "display_data"
    }
   ],
   "source": [
    "top_countries = country_counts.sort_values(by='confirmed',\n",
    "                                           ascending=False).head(10)\n",
    "\n",
    "top_countries['confirmed'].plot.bar()"
   ]
  },
  {
   "cell_type": "code",
   "execution_count": 83,
   "metadata": {},
   "outputs": [],
   "source": [
    "def wrangle_data(url, entity_name):\n",
    "    confirmed = pd.read_csv(url)\n",
    "    cols_retain = ['Province/State', 'Country/Region', 'Lat', 'Long']\n",
    "    df_confirmed = confirmed.melt(id_vars=cols_retain)\n",
    "    df_confirmed = df_confirmed.rename(columns={'variable': 'Date',\n",
    "                                                'value': entity_name})\n",
    "    df_confirmed['Date'] = pd.to_datetime(df_confirmed['Date'],\n",
    "                                      format=\"%m/%d/%y\")\n",
    "    country_confirmed = df_confirmed.groupby(\n",
    "        ['Country/Region', 'Date']).agg({entity_name: sum})\n",
    "    country_confirmed = country_confirmed.reset_index()\n",
    "    return country_confirmed"
   ]
  },
  {
   "cell_type": "code",
   "execution_count": 89,
   "metadata": {},
   "outputs": [],
   "source": [
    "url = 'https://github.com/CSSEGISandData/COVID-19/raw/master/csse_covid_19_data/csse_covid_19_time_series/time_series_covid19_confirmed_global.csv'\n",
    "confirmed = wrangle_data(url, 'confirmed')\n",
    "\n",
    "url = 'https://raw.githubusercontent.com/CSSEGISandData/COVID-19/master/csse_covid_19_data/csse_covid_19_time_series/time_series_covid19_deaths_global.csv'\n",
    "deaths = wrangle_data(url, 'deaths')\n",
    "\n",
    "url = 'https://raw.githubusercontent.com/CSSEGISandData/COVID-19/master/csse_covid_19_data/csse_covid_19_time_series/time_series_covid19_recovered_global.csv'\n",
    "recovered = wrangle_data(url, 'recovered')"
   ]
  },
  {
   "cell_type": "code",
   "execution_count": 95,
   "metadata": {},
   "outputs": [],
   "source": [
    "# merge/join"
   ]
  },
  {
   "cell_type": "code",
   "execution_count": 110,
   "metadata": {},
   "outputs": [
    {
     "data": {
      "text/html": [
       "<div>\n",
       "<style scoped>\n",
       "    .dataframe tbody tr th:only-of-type {\n",
       "        vertical-align: middle;\n",
       "    }\n",
       "\n",
       "    .dataframe tbody tr th {\n",
       "        vertical-align: top;\n",
       "    }\n",
       "\n",
       "    .dataframe thead th {\n",
       "        text-align: right;\n",
       "    }\n",
       "</style>\n",
       "<table border=\"1\" class=\"dataframe\">\n",
       "  <thead>\n",
       "    <tr style=\"text-align: right;\">\n",
       "      <th></th>\n",
       "      <th>Country/Region</th>\n",
       "      <th>Date</th>\n",
       "      <th>confirmed</th>\n",
       "      <th>deaths</th>\n",
       "      <th>recovered</th>\n",
       "    </tr>\n",
       "  </thead>\n",
       "  <tbody>\n",
       "    <tr>\n",
       "      <td>0</td>\n",
       "      <td>Afghanistan</td>\n",
       "      <td>2020-01-22</td>\n",
       "      <td>0</td>\n",
       "      <td>0</td>\n",
       "      <td>0</td>\n",
       "    </tr>\n",
       "    <tr>\n",
       "      <td>1</td>\n",
       "      <td>Afghanistan</td>\n",
       "      <td>2020-01-23</td>\n",
       "      <td>0</td>\n",
       "      <td>0</td>\n",
       "      <td>0</td>\n",
       "    </tr>\n",
       "    <tr>\n",
       "      <td>2</td>\n",
       "      <td>Afghanistan</td>\n",
       "      <td>2020-01-24</td>\n",
       "      <td>0</td>\n",
       "      <td>0</td>\n",
       "      <td>0</td>\n",
       "    </tr>\n",
       "    <tr>\n",
       "      <td>3</td>\n",
       "      <td>Afghanistan</td>\n",
       "      <td>2020-01-25</td>\n",
       "      <td>0</td>\n",
       "      <td>0</td>\n",
       "      <td>0</td>\n",
       "    </tr>\n",
       "    <tr>\n",
       "      <td>4</td>\n",
       "      <td>Afghanistan</td>\n",
       "      <td>2020-01-26</td>\n",
       "      <td>0</td>\n",
       "      <td>0</td>\n",
       "      <td>0</td>\n",
       "    </tr>\n",
       "  </tbody>\n",
       "</table>\n",
       "</div>"
      ],
      "text/plain": [
       "  Country/Region       Date  confirmed  deaths  recovered\n",
       "0    Afghanistan 2020-01-22          0       0          0\n",
       "1    Afghanistan 2020-01-23          0       0          0\n",
       "2    Afghanistan 2020-01-24          0       0          0\n",
       "3    Afghanistan 2020-01-25          0       0          0\n",
       "4    Afghanistan 2020-01-26          0       0          0"
      ]
     },
     "execution_count": 110,
     "metadata": {},
     "output_type": "execute_result"
    }
   ],
   "source": [
    "# Merge\n",
    "corona = pd.merge(left=confirmed,\n",
    "                  right=deaths,\n",
    "                 left_on=['Country/Region', 'Date'],\n",
    "                 right_on=['Country/Region', 'Date'],\n",
    "                 how='left')\n",
    "corona = pd.merge(left=corona,\n",
    "                  right=recovered,\n",
    "                 on=['Country/Region', 'Date'],\n",
    "                 how='left')\n",
    "corona.head()"
   ]
  },
  {
   "cell_type": "code",
   "execution_count": 118,
   "metadata": {},
   "outputs": [],
   "source": [
    "# join\n",
    "confirmed_new = confirmed.set_index(['Country/Region', 'Date'])\n",
    "deaths_new = deaths.set_index(['Country/Region', 'Date'])\n",
    "recovered_new = recovered.set_index(['Country/Region', 'Date'])\n",
    "\n",
    "corona = confirmed_new.join([\n",
    "    deaths_new,\n",
    "    recovered_new], how='left')\n",
    "corona = corona.reset_index()"
   ]
  },
  {
   "cell_type": "code",
   "execution_count": 121,
   "metadata": {},
   "outputs": [],
   "source": [
    "com_cols = ['Country/Region', 'Date']\n",
    "corona = confirmed.set_index(com_cols).join([\n",
    "    deaths.set_index(com_cols),\n",
    "    recovered.set_index(com_cols)], how='left')\n",
    "corona = corona.reset_index()"
   ]
  },
  {
   "cell_type": "code",
   "execution_count": 126,
   "metadata": {},
   "outputs": [
    {
     "data": {
      "text/html": [
       "<div>\n",
       "<style scoped>\n",
       "    .dataframe tbody tr th:only-of-type {\n",
       "        vertical-align: middle;\n",
       "    }\n",
       "\n",
       "    .dataframe tbody tr th {\n",
       "        vertical-align: top;\n",
       "    }\n",
       "\n",
       "    .dataframe thead th {\n",
       "        text-align: right;\n",
       "    }\n",
       "</style>\n",
       "<table border=\"1\" class=\"dataframe\">\n",
       "  <thead>\n",
       "    <tr style=\"text-align: right;\">\n",
       "      <th></th>\n",
       "      <th>chennai</th>\n",
       "      <th>bangalore</th>\n",
       "    </tr>\n",
       "    <tr>\n",
       "      <th>product</th>\n",
       "      <th></th>\n",
       "      <th></th>\n",
       "    </tr>\n",
       "  </thead>\n",
       "  <tbody>\n",
       "    <tr>\n",
       "      <td>a</td>\n",
       "      <td>1.0</td>\n",
       "      <td>1.0</td>\n",
       "    </tr>\n",
       "    <tr>\n",
       "      <td>b</td>\n",
       "      <td>2.0</td>\n",
       "      <td>2.0</td>\n",
       "    </tr>\n",
       "    <tr>\n",
       "      <td>c</td>\n",
       "      <td>3.0</td>\n",
       "      <td>NaN</td>\n",
       "    </tr>\n",
       "    <tr>\n",
       "      <td>d</td>\n",
       "      <td>4.0</td>\n",
       "      <td>3.0</td>\n",
       "    </tr>\n",
       "    <tr>\n",
       "      <td>e</td>\n",
       "      <td>5.0</td>\n",
       "      <td>4.0</td>\n",
       "    </tr>\n",
       "    <tr>\n",
       "      <td>f</td>\n",
       "      <td>NaN</td>\n",
       "      <td>5.0</td>\n",
       "    </tr>\n",
       "  </tbody>\n",
       "</table>\n",
       "</div>"
      ],
      "text/plain": [
       "         chennai  bangalore\n",
       "product                    \n",
       "a            1.0        1.0\n",
       "b            2.0        2.0\n",
       "c            3.0        NaN\n",
       "d            4.0        3.0\n",
       "e            5.0        4.0\n",
       "f            NaN        5.0"
      ]
     },
     "execution_count": 126,
     "metadata": {},
     "output_type": "execute_result"
    }
   ],
   "source": [
    "sample1 = pd.DataFrame({\n",
    "    'product': ['a', 'b', 'c', 'd', 'e'],\n",
    "    'chennai': [1,2,3,4,5]\n",
    "})\n",
    "\n",
    "sample2 = pd.DataFrame({\n",
    "    'product': ['a', 'b', 'd', 'e', 'f'],\n",
    "    'bangalore': [1,2,3,4,5]\n",
    "})\n",
    "\n",
    "sample1.set_index(['product']).join(sample2.set_index(['product']), how='outer')"
   ]
  }
 ],
 "metadata": {
  "kernelspec": {
   "display_name": "Python 3",
   "language": "python",
   "name": "python3"
  },
  "language_info": {
   "codemirror_mode": {
    "name": "ipython",
    "version": 3
   },
   "file_extension": ".py",
   "mimetype": "text/x-python",
   "name": "python",
   "nbconvert_exporter": "python",
   "pygments_lexer": "ipython3",
   "version": "3.7.4"
  }
 },
 "nbformat": 4,
 "nbformat_minor": 2
}
